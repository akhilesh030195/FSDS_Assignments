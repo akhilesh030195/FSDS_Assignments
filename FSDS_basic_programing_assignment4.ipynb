{
 "cells": [
  {
   "cell_type": "markdown",
   "id": "1373f0fd",
   "metadata": {},
   "source": [
    "1.Write a Python Program to Find the Factorial of a Number?"
   ]
  },
  {
   "cell_type": "code",
   "execution_count": 1,
   "id": "d088a058",
   "metadata": {},
   "outputs": [],
   "source": [
    "def factorial(a):\n",
    "    fact = 1\n",
    "    for i in range(a,1,-1):\n",
    "        fact = fact * i\n",
    "    return fact"
   ]
  },
  {
   "cell_type": "code",
   "execution_count": 5,
   "id": "a5c506b4",
   "metadata": {},
   "outputs": [
    {
     "name": "stdout",
     "output_type": "stream",
     "text": [
      "Enter the number:4\n",
      "Factorial of number 4 is 24\n"
     ]
    }
   ],
   "source": [
    "a = int(input(\"Enter the number:\"))\n",
    "f = factorial(a)\n",
    "print(\"Factorial of number {} is {}\".format(a,f))"
   ]
  },
  {
   "cell_type": "markdown",
   "id": "a362ef14",
   "metadata": {},
   "source": [
    "Write a Python Program to Display the multiplication Table?"
   ]
  },
  {
   "cell_type": "code",
   "execution_count": 15,
   "id": "52b9b358",
   "metadata": {},
   "outputs": [],
   "source": [
    "def mul_table(a,limit):\n",
    "    for i in range(limit + 1):\n",
    "        p = a * i\n",
    "        print(\"{} X {} = {}\".format(a,i,p))"
   ]
  },
  {
   "cell_type": "code",
   "execution_count": 9,
   "id": "eb3c1ac9",
   "metadata": {},
   "outputs": [
    {
     "name": "stdout",
     "output_type": "stream",
     "text": [
      "3 X 0 = 0\n",
      "3 X 1 = 3\n",
      "3 X 2 = 6\n",
      "3 X 3 = 9\n",
      "3 X 4 = 12\n",
      "3 X 5 = 15\n",
      "3 X 6 = 18\n",
      "3 X 7 = 21\n",
      "3 X 8 = 24\n",
      "3 X 9 = 27\n",
      "3 X 10 = 30\n"
     ]
    }
   ],
   "source": [
    "mul_table(3,10)"
   ]
  },
  {
   "cell_type": "markdown",
   "id": "063f6a54",
   "metadata": {},
   "source": [
    "Write a Python Program to Print the Fibonacci sequence"
   ]
  },
  {
   "cell_type": "code",
   "execution_count": 1,
   "id": "2525f8dc",
   "metadata": {},
   "outputs": [
    {
     "name": "stdout",
     "output_type": "stream",
     "text": [
      "0\n",
      "1\n",
      "1\n",
      "2\n",
      "3\n",
      "5\n",
      "8\n",
      "13\n",
      "21\n",
      "34\n",
      "55\n",
      "89\n",
      "144\n",
      "233\n",
      "377\n",
      "610\n",
      "987\n",
      "1597\n",
      "2584\n",
      "4181\n"
     ]
    }
   ],
   "source": [
    "for i in range(20):\n",
    "    if (i == 0):\n",
    "        temp1 = i\n",
    "        print(temp1)\n",
    "    elif (i == 1):\n",
    "        temp2 = i\n",
    "        print(temp2)\n",
    "    else:\n",
    "        temp3 = temp1 + temp2\n",
    "        temp1 = temp2\n",
    "        temp2 = temp3\n",
    "        print(temp3)\n",
    "    "
   ]
  },
  {
   "cell_type": "markdown",
   "id": "3e69bb3c",
   "metadata": {},
   "source": [
    "Write a Python Program to Check Armstrong Number?"
   ]
  },
  {
   "cell_type": "code",
   "execution_count": 10,
   "id": "7b8d779e",
   "metadata": {},
   "outputs": [
    {
     "name": "stdout",
     "output_type": "stream",
     "text": [
      "Enter the number:153\n",
      "153  is a Armstrong number\n"
     ]
    }
   ],
   "source": [
    "a = input(\"Enter the number:\")\n",
    "digit = int(a)\n",
    "l = [int(i) for i in a]\n",
    "sum = 0\n",
    "for i in l:\n",
    "    sum = sum + i ** len(l)\n",
    "if digit == sum:\n",
    "    print(digit,\" is a Armstrong number\")\n",
    "else:\n",
    "    print(digit,\" is not a Armstrong number\")\n",
    "    "
   ]
  },
  {
   "cell_type": "markdown",
   "id": "5d67db69",
   "metadata": {},
   "source": [
    "Write a Python Program to Find Armstrong Number in an Interval?"
   ]
  },
  {
   "cell_type": "code",
   "execution_count": 18,
   "id": "d249d28c",
   "metadata": {},
   "outputs": [
    {
     "name": "stdout",
     "output_type": "stream",
     "text": [
      "153\n",
      "370\n",
      "371\n",
      "407\n",
      "1634\n"
     ]
    }
   ],
   "source": [
    "upper = 2000\n",
    "lower = 100\n",
    "for num in range(lower,upper+1):\n",
    "    order = len(str(num))\n",
    "    temp = num\n",
    "    sum = 0\n",
    "    while temp > 0:\n",
    "        digit = int(temp % 10)\n",
    "        sum = sum + digit**order\n",
    "        temp = int(temp/10)\n",
    "    if sum == num:\n",
    "        print(num)"
   ]
  },
  {
   "cell_type": "code",
   "execution_count": 16,
   "id": "92a8e81a",
   "metadata": {},
   "outputs": [
    {
     "data": {
      "text/plain": [
       "15.3"
      ]
     },
     "execution_count": 16,
     "metadata": {},
     "output_type": "execute_result"
    }
   ],
   "source": [
    "153/10"
   ]
  },
  {
   "cell_type": "markdown",
   "id": "201b4295",
   "metadata": {},
   "source": [
    "Write a Python Program to Find the Sum of Natural Numbers?"
   ]
  },
  {
   "cell_type": "code",
   "execution_count": 21,
   "id": "2c789367",
   "metadata": {},
   "outputs": [
    {
     "name": "stdout",
     "output_type": "stream",
     "text": [
      "Enter the limit:16\n",
      "*****Sum of first 16 natural numbers*****\n",
      "Sum is  136.0\n"
     ]
    }
   ],
   "source": [
    "n = int(input(\"Enter the limit:\"))\n",
    "print(5*\"*\" +\"Sum of first {} natural numbers\".format(n) + 5*\"*\")\n",
    "sum = (n * (n + 1))/2\n",
    "print(\"Sum is \",sum)"
   ]
  },
  {
   "cell_type": "code",
   "execution_count": null,
   "id": "865c7fe8",
   "metadata": {},
   "outputs": [],
   "source": []
  }
 ],
 "metadata": {
  "kernelspec": {
   "display_name": "Python 3",
   "language": "python",
   "name": "python3"
  },
  "language_info": {
   "codemirror_mode": {
    "name": "ipython",
    "version": 3
   },
   "file_extension": ".py",
   "mimetype": "text/x-python",
   "name": "python",
   "nbconvert_exporter": "python",
   "pygments_lexer": "ipython3",
   "version": "3.8.8"
  }
 },
 "nbformat": 4,
 "nbformat_minor": 5
}
