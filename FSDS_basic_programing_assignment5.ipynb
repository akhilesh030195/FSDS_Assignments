{
 "cells": [
  {
   "cell_type": "markdown",
   "id": "14fb63b8",
   "metadata": {},
   "source": [
    "Write a Python Program to Find LCM?"
   ]
  },
  {
   "cell_type": "code",
   "execution_count": 1,
   "id": "f5fb8e24",
   "metadata": {},
   "outputs": [],
   "source": [
    "def lcm(a,b):\n",
    "    if a > b:\n",
    "        max = a\n",
    "    else:\n",
    "        max = b\n",
    "    while(True):\n",
    "        if (max % a == 0) & (max % b == 0):\n",
    "            print(\"LCM of {} and {} is {}\".format(a,b,max))\n",
    "            break\n",
    "        max = max + 1     "
   ]
  },
  {
   "cell_type": "code",
   "execution_count": 2,
   "id": "0e969807",
   "metadata": {},
   "outputs": [
    {
     "name": "stdout",
     "output_type": "stream",
     "text": [
      "LCM of 5 and 6 is 30\n"
     ]
    }
   ],
   "source": [
    "lcm(5,6)"
   ]
  },
  {
   "cell_type": "markdown",
   "id": "4514baae",
   "metadata": {},
   "source": [
    "Write a Python Program to Find HCF?"
   ]
  },
  {
   "cell_type": "code",
   "execution_count": 15,
   "id": "ad7e6e4b",
   "metadata": {},
   "outputs": [],
   "source": [
    "def hcf(a,b):\n",
    "    if a < b:\n",
    "        min = a\n",
    "    else:\n",
    "        min = b\n",
    "    for i in range(min,0,-1):\n",
    "        if (a % i == 0) & (b % i == 0):\n",
    "            h =i\n",
    "            break\n",
    "    print(\"HCF of {} and {} is {}\".format(a,b,h))"
   ]
  },
  {
   "cell_type": "code",
   "execution_count": 18,
   "id": "06e5807b",
   "metadata": {},
   "outputs": [
    {
     "name": "stdout",
     "output_type": "stream",
     "text": [
      "HCF of 12 and 16 is 4\n"
     ]
    }
   ],
   "source": [
    "hcf(12,16)"
   ]
  },
  {
   "cell_type": "markdown",
   "id": "e120a5d8",
   "metadata": {},
   "source": [
    "Write a Python Program to Convert Decimal to Binary, Octal and Hexadecimal?"
   ]
  },
  {
   "cell_type": "code",
   "execution_count": 1,
   "id": "964f4f82",
   "metadata": {},
   "outputs": [
    {
     "name": "stdout",
     "output_type": "stream",
     "text": [
      "Enter the decimal number:23\n",
      "0b10111 is the binary value of 23\n",
      "0o27 is the octal value of 23\n",
      "0x17 is the hexadecimal value of 23\n"
     ]
    }
   ],
   "source": [
    "a = int(input(\"Enter the decimal number:\"))\n",
    "print(bin(a),\"is the binary value of {}\".format(a))\n",
    "print(oct(a),\"is the octal value of {}\".format(a))\n",
    "print(hex(a),\"is the hexadecimal value of {}\".format(a))"
   ]
  },
  {
   "cell_type": "markdown",
   "id": "f8f05511",
   "metadata": {},
   "source": [
    "Write a Python Program To Find ASCII value of a character?"
   ]
  },
  {
   "cell_type": "code",
   "execution_count": 46,
   "id": "ac95db96",
   "metadata": {},
   "outputs": [],
   "source": [
    "def ascii_value(a):\n",
    "    if len(a) == 1:\n",
    "        return ord(a)\n",
    "    else:\n",
    "        return None\n",
    "        "
   ]
  },
  {
   "cell_type": "code",
   "execution_count": 52,
   "id": "d7f83401",
   "metadata": {},
   "outputs": [
    {
     "name": "stdout",
     "output_type": "stream",
     "text": [
      "Enter the character:B\n",
      "66 is the ASCII value of B\n"
     ]
    }
   ],
   "source": [
    "a = str(input(\"Enter the character:\"))\n",
    "b = ascii_value(a)\n",
    "print(\"{} is the ASCII value of {}\".format(b,a))"
   ]
  },
  {
   "cell_type": "markdown",
   "id": "46cd7928",
   "metadata": {},
   "source": [
    "\n",
    "\n",
    "Write a Python Program to Make a Simple Calculator with 4 basic mathematical operations?\n"
   ]
  },
  {
   "cell_type": "code",
   "execution_count": 10,
   "id": "ef367ca6",
   "metadata": {},
   "outputs": [],
   "source": [
    "def calculator(a,b,c):\n",
    "    result = 0\n",
    "    try:\n",
    "        if a == '+':\n",
    "            result = b + c\n",
    "            print(\"Sum is \",result)\n",
    "        elif a == '-':\n",
    "            result = b - c\n",
    "            print(\"Difference is \",result)\n",
    "        elif a == '*':\n",
    "            result =  b * c\n",
    "            print(\"Product is \",result)\n",
    "        elif a == '/':\n",
    "            result = b/c\n",
    "            print(\"Quotient is \",result)\n",
    "        else:\n",
    "            print(\"Not supported operand\")\n",
    "    except Exception as e:\n",
    "        print(e)\n",
    "            \n",
    "        \n",
    "        "
   ]
  },
  {
   "cell_type": "code",
   "execution_count": 14,
   "id": "836380ee",
   "metadata": {},
   "outputs": [
    {
     "name": "stdout",
     "output_type": "stream",
     "text": [
      "Quotient is  2.0\n"
     ]
    }
   ],
   "source": [
    "calculator('/',10,5)"
   ]
  },
  {
   "cell_type": "code",
   "execution_count": null,
   "id": "a72d2765",
   "metadata": {},
   "outputs": [],
   "source": []
  }
 ],
 "metadata": {
  "kernelspec": {
   "display_name": "Python 3",
   "language": "python",
   "name": "python3"
  },
  "language_info": {
   "codemirror_mode": {
    "name": "ipython",
    "version": 3
   },
   "file_extension": ".py",
   "mimetype": "text/x-python",
   "name": "python",
   "nbconvert_exporter": "python",
   "pygments_lexer": "ipython3",
   "version": "3.8.8"
  }
 },
 "nbformat": 4,
 "nbformat_minor": 5
}
