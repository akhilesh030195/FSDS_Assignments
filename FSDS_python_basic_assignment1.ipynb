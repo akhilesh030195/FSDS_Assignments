{
 "cells": [
  {
   "cell_type": "raw",
   "id": "02664991",
   "metadata": {},
   "source": [
    "1. In the below elements which of them are values or an expression? eg:- values can be integer or string and expressions will be mathematical operators.\n",
    "* \n",
    "'hello'\n",
    "-87.8\n",
    "- \n",
    "/ \n",
    "+\n",
    "6 \n",
    "\n",
    "Ans:\n",
    "Values are hello,-87.8,6\n",
    "Expressions are *,-,/,+"
   ]
  },
  {
   "cell_type": "raw",
   "id": "9a94fb3b",
   "metadata": {},
   "source": [
    "2. What is the difference between string and variable?\n",
    "Ans:\n",
    "A variable is basically the name of the location in the primary memory of your computer.It can store string, integer et..\n",
    "A string is the values inside the quotes assigned to a string. A string can be a single character as well as a paragrah\n"
   ]
  },
  {
   "cell_type": "raw",
   "id": "9cdd0970",
   "metadata": {},
   "source": [
    "3. Describe three different data types.\n",
    "Ans:\n",
    "1)Integers: In python it is represented by 'int' class. It contains any positive or negative whole numbers. There is no limit for integer\n",
    "2)Float: In python it is represented by 'float' class.It contains a real number with floatiing point representation\n",
    "3)String:In Python, Strings are arrays of bytes representing Unicode characters. A string is a collection of one or more characters put in a single quote, double-quote or triple quote. In python there is no character data type, a character is a string of length one. It is represented by str class.\n"
   ]
  },
  {
   "cell_type": "raw",
   "id": "dd092d11",
   "metadata": {},
   "source": [
    "4. What is an expression made up of? What do all expressions do?\n",
    "Ans:\n",
    "An expression is a construct made up of variables, operators and method invocatios. Also expression is a representation of value. Expressions evaluates to a single value"
   ]
  },
  {
   "cell_type": "raw",
   "id": "19830da4",
   "metadata": {},
   "source": [
    "5.This chapter introduced assignment statements, like spam = 10. What is the difference between an expression and a statement? \n",
    "Ans:\n",
    "An expression evaluates to a single value. A statement does not."
   ]
  },
  {
   "cell_type": "raw",
   "id": "a48253fb",
   "metadata": {},
   "source": [
    "6. After running the following code, what does the variable bacon contain?\n",
    "bacon = 22\n",
    "bacon + 1\n",
    "Ans:\n",
    "22"
   ]
  },
  {
   "cell_type": "raw",
   "id": "11d16005",
   "metadata": {},
   "source": [
    "7. What should the values of the following two terms be?\n",
    "'spam' + 'spamspam'\n",
    "'spam' * 3\n",
    "Ans:\n",
    "'spam' + 'spamspam'  will be spamspamspam\n",
    "'spam' * 3' also will be spamspamspam"
   ]
  },
  {
   "cell_type": "raw",
   "id": "bc77e6d0",
   "metadata": {},
   "source": [
    "8. Why is eggs a valid variable name while 100 is invalid?\n",
    "Ans:\n",
    "A variable should not be numeric"
   ]
  },
  {
   "cell_type": "raw",
   "id": "a8520928",
   "metadata": {},
   "source": [
    "9. What three functions can be used to get the integer, floating-point number, or string version of a value?\n",
    "Ans:\n",
    "int()\n",
    "float()\n",
    "str()"
   ]
  },
  {
   "cell_type": "raw",
   "id": "7f423b8a",
   "metadata": {},
   "source": [
    "10. Why does this expression cause an error? How can you fix it?\n",
    "'I have eaten ' + 99 + ' burritos.'\n",
    "Ans:\n",
    "99 is numeric. We can't concatinate a numeric value to a string"
   ]
  },
  {
   "cell_type": "code",
   "execution_count": null,
   "id": "1d127600",
   "metadata": {},
   "outputs": [],
   "source": []
  }
 ],
 "metadata": {
  "kernelspec": {
   "display_name": "Python 3",
   "language": "python",
   "name": "python3"
  },
  "language_info": {
   "codemirror_mode": {
    "name": "ipython",
    "version": 3
   },
   "file_extension": ".py",
   "mimetype": "text/x-python",
   "name": "python",
   "nbconvert_exporter": "python",
   "pygments_lexer": "ipython3",
   "version": "3.8.8"
  }
 },
 "nbformat": 4,
 "nbformat_minor": 5
}
