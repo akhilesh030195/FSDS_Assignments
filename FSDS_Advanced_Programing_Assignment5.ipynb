{
 "cells": [
  {
   "cell_type": "markdown",
   "id": "fed5b792",
   "metadata": {},
   "source": [
    "1. Create a function that takes a number n (integer greater than zero) as an argument, and returns 2 if n is odd and 8 if n is even.\n",
    "\n",
    "You can only use the following arithmetic operators: addition of numbers +, subtraction of numbers -, multiplication of number *, division of number /, and exponentiation **.\n",
    "\n",
    "You are not allowed to use any other methods in this challenge (i.e. no if statements, comparison operators, etc).\n",
    "\n",
    "Examples\n",
    "\n",
    "f(1) ➞ 2\n",
    "\n",
    "f(2) ➞ 8\n",
    "\n",
    "f(3) ➞ 2\n"
   ]
  },
  {
   "cell_type": "code",
   "execution_count": 34,
   "id": "405fc357",
   "metadata": {},
   "outputs": [],
   "source": [
    "def f(number):\n",
    "    data_to_string = str(number)\n",
    "    data_list = [2,8,2,8,2,8,2,8]\n",
    "    digit_to_list = list(data_to_string)\n",
    "    length_list = len(digit_to_list)\n",
    "    return data_list[int(digit_to_list[length_list-1])-1]"
   ]
  },
  {
   "cell_type": "code",
   "execution_count": 35,
   "id": "eb69564c",
   "metadata": {},
   "outputs": [
    {
     "data": {
      "text/plain": [
       "2"
      ]
     },
     "execution_count": 35,
     "metadata": {},
     "output_type": "execute_result"
    }
   ],
   "source": [
    "f(1)"
   ]
  },
  {
   "cell_type": "code",
   "execution_count": 36,
   "id": "5f66c4a9",
   "metadata": {},
   "outputs": [
    {
     "data": {
      "text/plain": [
       "8"
      ]
     },
     "execution_count": 36,
     "metadata": {},
     "output_type": "execute_result"
    }
   ],
   "source": [
    "f(2)"
   ]
  },
  {
   "cell_type": "code",
   "execution_count": 37,
   "id": "9fb564fd",
   "metadata": {},
   "outputs": [
    {
     "data": {
      "text/plain": [
       "2"
      ]
     },
     "execution_count": 37,
     "metadata": {},
     "output_type": "execute_result"
    }
   ],
   "source": [
    "f(3)"
   ]
  },
  {
   "cell_type": "code",
   "execution_count": 38,
   "id": "7bcadae1",
   "metadata": {},
   "outputs": [
    {
     "data": {
      "text/plain": [
       "2"
      ]
     },
     "execution_count": 38,
     "metadata": {},
     "output_type": "execute_result"
    }
   ],
   "source": [
    "f(15)"
   ]
  },
  {
   "cell_type": "code",
   "execution_count": 50,
   "id": "ed55e533",
   "metadata": {},
   "outputs": [
    {
     "data": {
      "text/plain": [
       "8"
      ]
     },
     "execution_count": 50,
     "metadata": {},
     "output_type": "execute_result"
    }
   ],
   "source": [
    "f(14)"
   ]
  },
  {
   "cell_type": "markdown",
   "id": "0120a385",
   "metadata": {},
   "source": [
    "2. Create a function that returns the majority vote in a list. A majority vote is an element that occurs > N/2 times in a list (where N is the length of the list).\n",
    "\n",
    "Examples\n",
    "\n",
    "majority_vote([\"A\", \"A\", \"B\"]) ➞ \"A\"\n",
    "\n",
    "majority_vote([\"A\", \"A\", \"A\", \"B\", \"C\", \"A\"]) ➞ \"A\"\n",
    "\n",
    "majority_vote([\"A\", \"B\", \"B\", \"A\", \"C\", \"C\"]) ➞ None\n"
   ]
  },
  {
   "cell_type": "code",
   "execution_count": 79,
   "id": "52900b92",
   "metadata": {},
   "outputs": [],
   "source": [
    "def majority_vote(input_list):\n",
    "    unique_elements = set(input_list)\n",
    "    N = len(input_list)\n",
    "    for i in unique_elements:\n",
    "        if input_list.count(i) > N/2:\n",
    "            return i\n",
    "    return \"None\""
   ]
  },
  {
   "cell_type": "code",
   "execution_count": 80,
   "id": "29c2b28b",
   "metadata": {},
   "outputs": [
    {
     "data": {
      "text/plain": [
       "'A'"
      ]
     },
     "execution_count": 80,
     "metadata": {},
     "output_type": "execute_result"
    }
   ],
   "source": [
    "majority_vote([\"A\", \"A\", \"B\"])"
   ]
  },
  {
   "cell_type": "code",
   "execution_count": 81,
   "id": "67c59adb",
   "metadata": {},
   "outputs": [
    {
     "data": {
      "text/plain": [
       "'A'"
      ]
     },
     "execution_count": 81,
     "metadata": {},
     "output_type": "execute_result"
    }
   ],
   "source": [
    "majority_vote([\"A\", \"A\", \"A\", \"B\", \"C\", \"A\"]) "
   ]
  },
  {
   "cell_type": "code",
   "execution_count": 82,
   "id": "58b9a785",
   "metadata": {},
   "outputs": [
    {
     "data": {
      "text/plain": [
       "'None'"
      ]
     },
     "execution_count": 82,
     "metadata": {},
     "output_type": "execute_result"
    }
   ],
   "source": [
    "majority_vote([\"A\", \"B\", \"B\", \"A\", \"C\", \"C\"]) "
   ]
  },
  {
   "cell_type": "markdown",
   "id": "04feb889",
   "metadata": {},
   "source": [
    "3. Create a function that takes a string txt and censors any word from a given list lst. The text removed must be replaced by the given character char.\n",
    "\n",
    "Examples\n",
    "\n",
    "censor_string(\"Today is a Wednesday!\", [\"Today\", \"a\"], \"-\") ➞ \"----- is - Wednesday!\"\n",
    "\n",
    "censor_string(\"The cow jumped over the moon.\", [\"cow\", \"over\"], \"*\"), \"The *** jumped **** the moon.\")\n",
    "\n",
    "censor_string(\"Why did the chicken cross the road?\", [\"Did\", \"chicken\", \"road\"], \"*\") ➞ \"Why *** the ******* cross the ****?\"\n"
   ]
  },
  {
   "cell_type": "code",
   "execution_count": 14,
   "id": "c838da61",
   "metadata": {},
   "outputs": [],
   "source": [
    "def censor_string(input_data,input_list,replace_variable):\n",
    "    data_to_list = input_data.split(\" \")\n",
    "    out_list = []\n",
    "    for i in data_to_list:\n",
    "        for k in input_list:\n",
    "            temp_list=[]\n",
    "            if ((i == k) or (i==k.lower()) or (i==k.upper())):\n",
    "                temp_list.append(replace_variable*len(k))\n",
    "                element_to_append = \"\".join(temp_list)\n",
    "                break\n",
    "            else:\n",
    "                element_to_append = i\n",
    "        out_list.append(element_to_append)\n",
    "    return \" \".join(out_list)\n",
    "            \n"
   ]
  },
  {
   "cell_type": "code",
   "execution_count": 15,
   "id": "ed0c5399",
   "metadata": {},
   "outputs": [
    {
     "data": {
      "text/plain": [
       "'----- is - Wednesday!'"
      ]
     },
     "execution_count": 15,
     "metadata": {},
     "output_type": "execute_result"
    }
   ],
   "source": [
    "censor_string(\"Today is a Wednesday!\", [\"Today\", \"a\"], \"-\") "
   ]
  },
  {
   "cell_type": "code",
   "execution_count": 16,
   "id": "4b352008",
   "metadata": {},
   "outputs": [
    {
     "data": {
      "text/plain": [
       "'The *** jumped **** the moon.'"
      ]
     },
     "execution_count": 16,
     "metadata": {},
     "output_type": "execute_result"
    }
   ],
   "source": [
    "censor_string(\"The cow jumped over the moon.\", [\"cow\", \"over\"], \"*\")"
   ]
  },
  {
   "cell_type": "code",
   "execution_count": 18,
   "id": "d2694f89",
   "metadata": {},
   "outputs": [
    {
     "data": {
      "text/plain": [
       "'Why *** the ******* cross the **** ?'"
      ]
     },
     "execution_count": 18,
     "metadata": {},
     "output_type": "execute_result"
    }
   ],
   "source": [
    "censor_string(\"Why did the chicken cross the road ?\", [\"Did\", \"chicken\", \"road\"], \"*\")"
   ]
  },
  {
   "cell_type": "markdown",
   "id": "b0dc0981",
   "metadata": {},
   "source": [
    "4. In mathematics a Polydivisible Number (or magic number) is a number in a given number base with digits abcde... that has the following properties:\n",
    "\n",
    "-  Its first digit a is not 0.\n",
    "- The number formed by its first two digits ab is a multiple of 2.\n",
    "- The number formed by its first three digits abc is a multiple of 3.\n",
    "- The number formed by its first four digits abcd is a multiple of 4.\n",
    "\n",
    "Create a function which takes an integer n and returns True if the given number is a Polydivisible Number and False otherwise.\n"
   ]
  },
  {
   "cell_type": "code",
   "execution_count": 22,
   "id": "b66281be",
   "metadata": {},
   "outputs": [],
   "source": [
    "def is_polydivisible(number):\n",
    "    num_to_str = str(number)\n",
    "    num_to_lst = list(num_to_str)\n",
    "    int_list = list(map(int,num_to_str))\n",
    "    N = len(num_to_str)\n",
    "    if len(int_list) >= 4:\n",
    "        if (int_list[0] == 0):\n",
    "            return None\n",
    "        for i in range(1,N):\n",
    "            total = sum(int_list[0:i+1])\n",
    "            if (total % (i+1)==0):\n",
    "                b = True\n",
    "            else:\n",
    "                b = False\n",
    "    return b\n",
    "   "
   ]
  },
  {
   "cell_type": "code",
   "execution_count": 23,
   "id": "52f5883e",
   "metadata": {},
   "outputs": [
    {
     "data": {
      "text/plain": [
       "True"
      ]
     },
     "execution_count": 23,
     "metadata": {},
     "output_type": "execute_result"
    }
   ],
   "source": [
    "is_polydivisible(1232)"
   ]
  },
  {
   "cell_type": "code",
   "execution_count": 25,
   "id": "78e9e457",
   "metadata": {},
   "outputs": [
    {
     "data": {
      "text/plain": [
       "False"
      ]
     },
     "execution_count": 25,
     "metadata": {},
     "output_type": "execute_result"
    }
   ],
   "source": [
    "is_polydivisible(123220)"
   ]
  },
  {
   "cell_type": "markdown",
   "id": "6020383c",
   "metadata": {},
   "source": [
    "5. Create a function that takes a list of numbers and returns the sum of all prime numbers in the list.\n"
   ]
  },
  {
   "cell_type": "code",
   "execution_count": 92,
   "id": "abaa24fd",
   "metadata": {},
   "outputs": [],
   "source": [
    "def sum_primes(l):\n",
    "    prime=0\n",
    "    total = 0\n",
    "    b = False\n",
    "    if l == []:\n",
    "        return None\n",
    "    for i in l:\n",
    "        for h in range(2,i+1):\n",
    "            if (i == 2):\n",
    "                b = True\n",
    "                break\n",
    "            if i != h:\n",
    "                if (i%h == 0):\n",
    "                    b = False\n",
    "                    break\n",
    "                else:\n",
    "                    b = True\n",
    "        if b == True:\n",
    "            total = total + i\n",
    "    return total\n",
    "        \n",
    "            \n",
    "                \n",
    "            \n",
    "            "
   ]
  },
  {
   "cell_type": "code",
   "execution_count": 93,
   "id": "216a7545",
   "metadata": {},
   "outputs": [
    {
     "data": {
      "text/plain": [
       "17"
      ]
     },
     "execution_count": 93,
     "metadata": {},
     "output_type": "execute_result"
    }
   ],
   "source": [
    "sum_primes([1, 2, 3, 4, 5, 6, 7, 8, 9, 10])"
   ]
  },
  {
   "cell_type": "code",
   "execution_count": 94,
   "id": "be693fc2",
   "metadata": {},
   "outputs": [
    {
     "data": {
      "text/plain": [
       "87"
      ]
     },
     "execution_count": 94,
     "metadata": {},
     "output_type": "execute_result"
    }
   ],
   "source": [
    "sum_primes([2, 3, 4, 11, 20, 50, 71]) "
   ]
  },
  {
   "cell_type": "code",
   "execution_count": 95,
   "id": "c278eba3",
   "metadata": {},
   "outputs": [],
   "source": [
    "sum_primes([]) "
   ]
  },
  {
   "cell_type": "code",
   "execution_count": null,
   "id": "e2cc3e04",
   "metadata": {},
   "outputs": [],
   "source": []
  }
 ],
 "metadata": {
  "kernelspec": {
   "display_name": "Python 3",
   "language": "python",
   "name": "python3"
  },
  "language_info": {
   "codemirror_mode": {
    "name": "ipython",
    "version": 3
   },
   "file_extension": ".py",
   "mimetype": "text/x-python",
   "name": "python",
   "nbconvert_exporter": "python",
   "pygments_lexer": "ipython3",
   "version": "3.8.8"
  }
 },
 "nbformat": 4,
 "nbformat_minor": 5
}
