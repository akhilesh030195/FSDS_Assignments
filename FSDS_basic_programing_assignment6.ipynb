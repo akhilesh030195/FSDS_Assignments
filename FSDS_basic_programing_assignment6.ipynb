{
 "cells": [
  {
   "cell_type": "markdown",
   "id": "e43fa8a3",
   "metadata": {},
   "source": [
    "Write a Python Program to Display Fibonacci Sequence Using Recursion?"
   ]
  },
  {
   "cell_type": "code",
   "execution_count": 12,
   "id": "a87e82d9",
   "metadata": {},
   "outputs": [
    {
     "name": "stdout",
     "output_type": "stream",
     "text": [
      "0\n",
      "1\n",
      "1\n",
      "2\n",
      "3\n",
      "5\n"
     ]
    }
   ],
   "source": [
    "def fib_gen(n):\n",
    "    \"\"\"This is a recursive function\n",
    "    to find fibonacci sequence\"\"\"\n",
    "    if n <= 1:\n",
    "        return n\n",
    "    else:\n",
    "        return (fib_gen(n-1) + fib_gen(n-2))\n",
    "n = 5\n",
    "for i in range(n+1):\n",
    "    print(fib_gen(i))     "
   ]
  },
  {
   "cell_type": "markdown",
   "id": "d584f99e",
   "metadata": {},
   "source": [
    "2.Write a Python Program to Find Factorial of Number Using Recursion?"
   ]
  },
  {
   "cell_type": "code",
   "execution_count": 13,
   "id": "8dc715bf",
   "metadata": {},
   "outputs": [
    {
     "name": "stdout",
     "output_type": "stream",
     "text": [
      "The factorial of 4 is 24\n"
     ]
    }
   ],
   "source": [
    "def factorial(x):\n",
    "    \"\"\"This is a recursive function\n",
    "    to find the factorial of an integer\"\"\"\n",
    "\n",
    "    if x == 1:\n",
    "        return 1\n",
    "    else:\n",
    "        return (x * factorial(x-1))\n",
    "\n",
    "\n",
    "num = 4\n",
    "print(\"The factorial of\", num, \"is\", factorial(num))"
   ]
  },
  {
   "cell_type": "markdown",
   "id": "53c9f210",
   "metadata": {},
   "source": [
    "3.Write a Python Program to calculate your Body Mass Index"
   ]
  },
  {
   "cell_type": "code",
   "execution_count": 15,
   "id": "3559a0c7",
   "metadata": {},
   "outputs": [
    {
     "name": "stdout",
     "output_type": "stream",
     "text": [
      "Enter your height in cm: 160\n",
      "Enter your weight in kg: 70\n",
      "body mass index is 27.343749999999996\n"
     ]
    }
   ],
   "source": [
    "def body_mass_index(height,weight):\n",
    "    bmi = weight/(height/100)**2\n",
    "    return bmi\n",
    "\n",
    "height = float(input(\"Enter your height in cm: \"))\n",
    "weight = float(input(\"Enter your weight in kg: \"))\n",
    "bmi = body_mass_index(height,weight)\n",
    "print(f\"body mass index is {bmi}\")"
   ]
  },
  {
   "cell_type": "markdown",
   "id": "9b58b389",
   "metadata": {},
   "source": [
    "4.Write a Python Program to calculate the natural logarithm of any number?\n"
   ]
  },
  {
   "cell_type": "code",
   "execution_count": 16,
   "id": "68224ad0",
   "metadata": {},
   "outputs": [
    {
     "name": "stdout",
     "output_type": "stream",
     "text": [
      "Enter the number :5\n",
      "Natural log of 5.0 is 1.6094379124341003\n"
     ]
    }
   ],
   "source": [
    "import math\n",
    "number = float(input(\"Enter the number :\"))\n",
    "natural_log = math.log(5)\n",
    "print(f\"Natural log of {number} is {natural_log}\")\n"
   ]
  },
  {
   "cell_type": "markdown",
   "id": "e56a490b",
   "metadata": {},
   "source": [
    "5.Write a Python Program for cube sum of first n natural numbers?"
   ]
  },
  {
   "cell_type": "code",
   "execution_count": 19,
   "id": "a5639dbb",
   "metadata": {},
   "outputs": [
    {
     "name": "stdout",
     "output_type": "stream",
     "text": [
      "Enter the natural number :4\n",
      "cube sume of first 4 is 100.0\n"
     ]
    }
   ],
   "source": [
    "n = int(input(\"Enter the natural number :\"))\n",
    "total = ((n**2)*(n+1)**2)/4\n",
    "print(f\"cube sume of first {n} is {total}\")"
   ]
  },
  {
   "cell_type": "code",
   "execution_count": null,
   "id": "b8f8b439",
   "metadata": {},
   "outputs": [],
   "source": []
  },
  {
   "cell_type": "code",
   "execution_count": null,
   "id": "5edd7021",
   "metadata": {},
   "outputs": [],
   "source": []
  }
 ],
 "metadata": {
  "kernelspec": {
   "display_name": "Python 3",
   "language": "python",
   "name": "python3"
  },
  "language_info": {
   "codemirror_mode": {
    "name": "ipython",
    "version": 3
   },
   "file_extension": ".py",
   "mimetype": "text/x-python",
   "name": "python",
   "nbconvert_exporter": "python",
   "pygments_lexer": "ipython3",
   "version": "3.8.8"
  }
 },
 "nbformat": 4,
 "nbformat_minor": 5
}
