{
 "cells": [
  {
   "cell_type": "markdown",
   "id": "3aa3bf8f",
   "metadata": {},
   "source": [
    "Write a Python program to print \"Hello Python\"?"
   ]
  },
  {
   "cell_type": "code",
   "execution_count": 1,
   "id": "bfed562a",
   "metadata": {},
   "outputs": [
    {
     "name": "stdout",
     "output_type": "stream",
     "text": [
      "Hello Python\n"
     ]
    }
   ],
   "source": [
    "print(\"Hello Python\")"
   ]
  },
  {
   "cell_type": "markdown",
   "id": "7d79dd38",
   "metadata": {},
   "source": [
    "Write a Python program to do arithmetical operations addition and division.?"
   ]
  },
  {
   "cell_type": "code",
   "execution_count": 2,
   "id": "3b814ed0",
   "metadata": {},
   "outputs": [
    {
     "name": "stdout",
     "output_type": "stream",
     "text": [
      "Enter the first variable:11\n",
      "Enter the second variable:2\n",
      "sum is 13.0\n",
      "Quotient is 5.5\n",
      "Reminder is 1.0\n"
     ]
    }
   ],
   "source": [
    "a = float(input(\"Enter the first variable:\"))\n",
    "b = float(input(\"Enter the second variable:\"))\n",
    "s = a + b\n",
    "q = a/b\n",
    "r = a%b\n",
    "print(\"sum is\",s)\n",
    "print(\"Quotient is\",q)\n",
    "print(\"Reminder is\",r)"
   ]
  },
  {
   "cell_type": "markdown",
   "id": "f5470091",
   "metadata": {},
   "source": [
    "Write a Python program to find the area of a triangle?\n"
   ]
  },
  {
   "cell_type": "code",
   "execution_count": 1,
   "id": "18a74a8b",
   "metadata": {},
   "outputs": [
    {
     "name": "stdout",
     "output_type": "stream",
     "text": [
      "Enter the length of first side:2\n",
      "Enter the length of second side:3\n",
      "Enter the length of third side:4\n",
      "Area of triangle is 2.9047375096555625\n"
     ]
    }
   ],
   "source": [
    "l1 = float(input(\"Enter the length of first side:\"))\n",
    "l2 = float(input(\"Enter the length of second side:\"))\n",
    "l3 = float(input(\"Enter the length of third side:\"))\n",
    "s= (l1 + l2 + l3)/2\n",
    "area = (s * (s-l1) * (s-l2) * (s-l3))**0.5\n",
    "print(\"Area of triangle is\",area)"
   ]
  },
  {
   "cell_type": "markdown",
   "id": "2c55e3fe",
   "metadata": {},
   "source": [
    "Write a Python program to swap two variables?"
   ]
  },
  {
   "cell_type": "code",
   "execution_count": 10,
   "id": "1a9e46a2",
   "metadata": {},
   "outputs": [
    {
     "name": "stdout",
     "output_type": "stream",
     "text": [
      "enter first variable:10\n",
      "enter second variable:20\n",
      "*****Before swap*****\n",
      "a= 10\n",
      "b= 20\n",
      "*****After swap*****\n",
      "a= 20\n",
      "b= 10\n"
     ]
    }
   ],
   "source": [
    "a = input(\"enter first variable:\")\n",
    "b = input(\"enter second variable:\")\n",
    "print(\"*\"*5+\"Before swap\"+5*\"*\")\n",
    "print(\"a=\",a)\n",
    "print(\"b=\",b)\n",
    "temp = b\n",
    "b = a\n",
    "a = temp\n",
    "print(\"*\"*5+\"After swap\"+5*\"*\")\n",
    "print(\"a=\",a)\n",
    "print(\"b=\",b)\n"
   ]
  },
  {
   "cell_type": "markdown",
   "id": "f86a18d1",
   "metadata": {},
   "source": [
    "Write a Python program to generate a random number?"
   ]
  },
  {
   "cell_type": "code",
   "execution_count": 7,
   "id": "ac0dea8d",
   "metadata": {},
   "outputs": [
    {
     "data": {
      "text/plain": [
       "41"
      ]
     },
     "execution_count": 7,
     "metadata": {},
     "output_type": "execute_result"
    }
   ],
   "source": [
    "import random\n",
    "a = random.randint(0,100)\n",
    "a"
   ]
  },
  {
   "cell_type": "code",
   "execution_count": null,
   "id": "c38706a0",
   "metadata": {},
   "outputs": [],
   "source": []
  }
 ],
 "metadata": {
  "kernelspec": {
   "display_name": "Python 3",
   "language": "python",
   "name": "python3"
  },
  "language_info": {
   "codemirror_mode": {
    "name": "ipython",
    "version": 3
   },
   "file_extension": ".py",
   "mimetype": "text/x-python",
   "name": "python",
   "nbconvert_exporter": "python",
   "pygments_lexer": "ipython3",
   "version": "3.8.8"
  }
 },
 "nbformat": 4,
 "nbformat_minor": 5
}
