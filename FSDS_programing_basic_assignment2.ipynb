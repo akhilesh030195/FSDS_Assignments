{
 "cells": [
  {
   "cell_type": "markdown",
   "id": "c609abda",
   "metadata": {},
   "source": [
    "Write a Python program to convert kilometers to miles?\n"
   ]
  },
  {
   "cell_type": "code",
   "execution_count": 2,
   "id": "26853ca5",
   "metadata": {},
   "outputs": [
    {
     "name": "stdout",
     "output_type": "stream",
     "text": [
      "Kilometers to miles conversion\n",
      "Enter the value in kilometers:1\n",
      "1 Kilometer= 0.62137 Miles\n"
     ]
    }
   ],
   "source": [
    "print(\"Kilometers to miles conversion\")\n",
    "a = int(input(\"Enter the value in kilometers:\"))\n",
    "m = a * 0.62137\n",
    "print(a,\"Kilometer\"+\"=\",m,\"Miles\")"
   ]
  },
  {
   "cell_type": "markdown",
   "id": "3dc32dba",
   "metadata": {},
   "source": [
    "Write a Python program to convert Celsius to Fahrenheit"
   ]
  },
  {
   "cell_type": "code",
   "execution_count": 7,
   "id": "1a896b8d",
   "metadata": {},
   "outputs": [
    {
     "name": "stdout",
     "output_type": "stream",
     "text": [
      "Enter the temperature in celsius:10\n",
      "10.0 Degree celsius= 50.0 Fahrenheit\n"
     ]
    }
   ],
   "source": [
    "c=float(input(\"Enter the temperature in celsius:\"))\n",
    "f=(c * 1.8) + 32\n",
    "print(c,\"Degree celsius\"+\"=\",f,\"Fahrenheit\")"
   ]
  },
  {
   "cell_type": "markdown",
   "id": "61b0f190",
   "metadata": {},
   "source": [
    "Write a Python program to display calendar?\n"
   ]
  },
  {
   "cell_type": "code",
   "execution_count": 1,
   "id": "041ec5e6",
   "metadata": {},
   "outputs": [],
   "source": [
    "import calendar"
   ]
  },
  {
   "cell_type": "code",
   "execution_count": 5,
   "id": "29465900",
   "metadata": {},
   "outputs": [
    {
     "name": "stdout",
     "output_type": "stream",
     "text": [
      "Enter the year:2021\n",
      "Enter the month:12\n",
      "   December 2021\n",
      "Mo Tu We Th Fr Sa Su\n",
      "       1  2  3  4  5\n",
      " 6  7  8  9 10 11 12\n",
      "13 14 15 16 17 18 19\n",
      "20 21 22 23 24 25 26\n",
      "27 28 29 30 31\n",
      "\n"
     ]
    }
   ],
   "source": [
    "yy = int(input(\"Enter the year:\"))\n",
    "mm = int(input(\"Enter the month:\"))\n",
    "print(calendar.month(yy,mm))"
   ]
  },
  {
   "cell_type": "markdown",
   "id": "0ec5a473",
   "metadata": {},
   "source": [
    "Write a Python program to solve quadratic equation?\n"
   ]
  },
  {
   "cell_type": "code",
   "execution_count": 30,
   "id": "ab03c4bc",
   "metadata": {},
   "outputs": [
    {
     "name": "stdout",
     "output_type": "stream",
     "text": [
      "Enter the value of a:1\n",
      "Enter the value of b:1\n",
      "Enter the value of c:-1\n",
      "Solution1 is 0.6180339887498949 and solution2 is -1.618033988749895\n"
     ]
    }
   ],
   "source": [
    "#  ax2 + bx + c = 0\n",
    "# Solution is [-b ± √(b² - 4ac)] / (2a)\n",
    "a = int(input(\"Enter the value of a:\"))\n",
    "b = int(input(\"Enter the value of b:\"))\n",
    "c = int(input(\"Enter the value of c:\"))\n",
    "\n",
    "\n",
    "if a == 0:\n",
    "    print(\"a should not be equal to zero\")\n",
    "else:\n",
    "    r = b**2 - 4*a*c\n",
    "    x1 = (((-b) + r**0.5)/(2*a))\n",
    "    x2 = (((-b) - r**0.5)/(2*a))\n",
    "    print(\"Solution1 is {} and solution2 is {}\".format(x1,x2))"
   ]
  },
  {
   "cell_type": "markdown",
   "id": "0734cc7e",
   "metadata": {},
   "source": [
    "Write a Python program to swap two variables without temp variable?\n"
   ]
  },
  {
   "cell_type": "code",
   "execution_count": 37,
   "id": "db7ce152",
   "metadata": {},
   "outputs": [
    {
     "name": "stdout",
     "output_type": "stream",
     "text": [
      "enter first variable:40\n",
      "enter second variable:50\n",
      "*****Before swap*****\n",
      "a= 40\n",
      "b= 50\n",
      "*****After swap*****\n",
      "a= 50\n",
      "b= 40\n"
     ]
    }
   ],
   "source": [
    "a = int(input(\"enter first variable:\"))\n",
    "b = int(input(\"enter second variable:\"))\n",
    "print(\"*\"*5+\"Before swap\"+5*\"*\")\n",
    "print(\"a=\",a)\n",
    "print(\"b=\",b)\n",
    "a = a + b\n",
    "b = a - b\n",
    "a = a - b\n",
    "print(\"*\"*5+\"After swap\"+5*\"*\")\n",
    "print(\"a=\",a)\n",
    "print(\"b=\",b)\n"
   ]
  },
  {
   "cell_type": "code",
   "execution_count": null,
   "id": "8252cc4f",
   "metadata": {},
   "outputs": [],
   "source": []
  }
 ],
 "metadata": {
  "kernelspec": {
   "display_name": "Python 3",
   "language": "python",
   "name": "python3"
  },
  "language_info": {
   "codemirror_mode": {
    "name": "ipython",
    "version": 3
   },
   "file_extension": ".py",
   "mimetype": "text/x-python",
   "name": "python",
   "nbconvert_exporter": "python",
   "pygments_lexer": "ipython3",
   "version": "3.8.8"
  }
 },
 "nbformat": 4,
 "nbformat_minor": 5
}
