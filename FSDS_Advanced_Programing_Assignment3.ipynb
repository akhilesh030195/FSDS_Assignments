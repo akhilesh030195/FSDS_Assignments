{
 "cells": [
  {
   "cell_type": "markdown",
   "id": "5c0575e8",
   "metadata": {},
   "source": [
    "1. Create a function to perform basic arithmetic operations that includes addition, subtraction, multiplication and division on a string number (e.g. \"12 + 24\" or \"23 - 21\" or \"12 // 12\" or \"12 * 21\").\n",
    "\n",
    "Here, we have 1 followed by a space, operator followed by another space and 2. For the challenge, we are going to have only two numbers between 1 valid operator. The return value should be a number.\n",
    "\n",
    "eval() is not allowed. In case of division, whenever the second number equals \"0\" return -1.\n",
    "\n",
    "For example:\n",
    "\n",
    "\"15 // 0\"  ➞ -1\n",
    "\n",
    "Examples\n",
    "\n",
    "arithmetic_operation(\"12 + 12\") ➞ 24 // 12 + 12 = 24\n",
    "\n",
    "arithmetic_operation(\"12 - 12\") ➞ 24 // 12 - 12 = 0\n",
    "\n",
    "arithmetic_operation(\"12 * 12\") ➞ 144 // 12 * 12 = 144\n",
    "\n",
    "arithmetic_operation(\"12 // 0\") ➞ -1 // 12 / 0 = -1\n"
   ]
  },
  {
   "cell_type": "code",
   "execution_count": 12,
   "id": "1a8374cc",
   "metadata": {},
   "outputs": [],
   "source": [
    "def arithmetic_operation(s):\n",
    "    l = s.split()\n",
    "    num1 = int(l[0])\n",
    "    operator = str(l[1])\n",
    "    num2 = int(l[2])\n",
    "    if  num2 == 0 and operator == \"//\":\n",
    "        return -1\n",
    "    elif operator == \"+\":\n",
    "        return num1 + num2\n",
    "    elif operator == '-':\n",
    "        return num1 - num2\n",
    "    elif operator == '*':\n",
    "        return num1 * num2\n",
    "    elif operator == '//':\n",
    "        return num1/num2\n",
    "    else:\n",
    "        print(\"Unknown operator\")\n",
    "    \n",
    "        "
   ]
  },
  {
   "cell_type": "code",
   "execution_count": 13,
   "id": "ffb176d7",
   "metadata": {},
   "outputs": [
    {
     "data": {
      "text/plain": [
       "24"
      ]
     },
     "execution_count": 13,
     "metadata": {},
     "output_type": "execute_result"
    }
   ],
   "source": [
    "arithmetic_operation(\"12 + 12\") "
   ]
  },
  {
   "cell_type": "code",
   "execution_count": 14,
   "id": "4ebd66eb",
   "metadata": {},
   "outputs": [
    {
     "data": {
      "text/plain": [
       "0"
      ]
     },
     "execution_count": 14,
     "metadata": {},
     "output_type": "execute_result"
    }
   ],
   "source": [
    "arithmetic_operation(\"12 - 12\") "
   ]
  },
  {
   "cell_type": "code",
   "execution_count": 15,
   "id": "a49dfb80",
   "metadata": {},
   "outputs": [
    {
     "data": {
      "text/plain": [
       "144"
      ]
     },
     "execution_count": 15,
     "metadata": {},
     "output_type": "execute_result"
    }
   ],
   "source": [
    "arithmetic_operation(\"12 * 12\")"
   ]
  },
  {
   "cell_type": "code",
   "execution_count": 16,
   "id": "87f79786",
   "metadata": {},
   "outputs": [
    {
     "data": {
      "text/plain": [
       "-1"
      ]
     },
     "execution_count": 16,
     "metadata": {},
     "output_type": "execute_result"
    }
   ],
   "source": [
    "arithmetic_operation(\"12 // 0\")"
   ]
  },
  {
   "cell_type": "markdown",
   "id": "cbdd01ee",
   "metadata": {},
   "source": [
    "2. Write a function that takes the coordinates of three points in the form of a 2d array and returns the perimeter of the triangle. The given points are the vertices of a triangle on a two-dimensional plane.\n",
    "\n",
    "Examples\n",
    "\n",
    "perimeter( [ [15, 7], [5, 22], [11, 1] ] ) ➞ 47.08\n",
    "\n",
    "perimeter( [ [0, 0], [0, 1], [1, 0] ] ) ➞ 3.42\n",
    "\n",
    "perimeter( [ [-10, -10], [10, 10 ], [-10, 10] ] ) ➞ 68.28\n"
   ]
  },
  {
   "cell_type": "code",
   "execution_count": 42,
   "id": "0342ed93",
   "metadata": {},
   "outputs": [],
   "source": [
    "def perimeter(l):\n",
    "    #Let the points be A,B,C\n",
    "    a = l[0]\n",
    "    b = l[1]\n",
    "    c = l[2]\n",
    "    #calculating the length's of triangle\n",
    "    ab = float(((b[0] - a[0])**2 + (b[1] - a[1])**2))**0.5\n",
    "    bc = float(((c[0] - b[0])**2 + (c[1] - b[1])**2))**0.5\n",
    "    ca = float(((a[0] - c[0])**2 + (a[1] - c[1])**2))**0.5\n",
    "    #Perimeter calculation\n",
    "    p = float(ab + bc + ca)\n",
    "    return round(p,ndigits=2)\n"
   ]
  },
  {
   "cell_type": "code",
   "execution_count": 43,
   "id": "268638a2",
   "metadata": {},
   "outputs": [
    {
     "data": {
      "text/plain": [
       "47.08"
      ]
     },
     "execution_count": 43,
     "metadata": {},
     "output_type": "execute_result"
    }
   ],
   "source": [
    "perimeter([[15,7],[5,22],[11,1]])"
   ]
  },
  {
   "cell_type": "code",
   "execution_count": 44,
   "id": "b8995888",
   "metadata": {},
   "outputs": [
    {
     "data": {
      "text/plain": [
       "3.41"
      ]
     },
     "execution_count": 44,
     "metadata": {},
     "output_type": "execute_result"
    }
   ],
   "source": [
    "perimeter( [[0,0],[0,1],[1,0]])"
   ]
  },
  {
   "cell_type": "code",
   "execution_count": 45,
   "id": "dccfa7df",
   "metadata": {},
   "outputs": [
    {
     "data": {
      "text/plain": [
       "68.28"
      ]
     },
     "execution_count": 45,
     "metadata": {},
     "output_type": "execute_result"
    }
   ],
   "source": [
    "perimeter([[-10, -10],[10,10],[-10, 10]]) "
   ]
  },
  {
   "cell_type": "markdown",
   "id": "b0279328",
   "metadata": {},
   "source": [
    "3. A city skyline can be represented as a 2-D list with 1s representing buildings. In the example below, the height of the tallest building is 4 (second-most right column).\n",
    "\n",
    "[[0, 0, 0, 0, 0, 0],\n",
    "[0, 0, 0, 0, 1, 0],\n",
    "[0, 0, 1, 0, 1, 0],\n",
    "[0, 1, 1, 1, 1, 0],\n",
    "[1, 1, 1, 1, 1, 1]]\n",
    "\n",
    "Create a function that takes a skyline (2-D list of 0's and 1's) and returns the height of the tallest skyscraper.\n"
   ]
  },
  {
   "cell_type": "code",
   "execution_count": 39,
   "id": "3f385062",
   "metadata": {},
   "outputs": [],
   "source": [
    "def tallest_skyscraper(l):\n",
    "    k = []\n",
    "    for i in range(len(l[0])):\n",
    "        count = 0\n",
    "        for j in range(len(l)):\n",
    "            count+=l[j][i]\n",
    "            k.append(count)\n",
    "    return max(k) "
   ]
  },
  {
   "cell_type": "code",
   "execution_count": 46,
   "id": "fe5423a7",
   "metadata": {},
   "outputs": [
    {
     "data": {
      "text/plain": [
       "3"
      ]
     },
     "execution_count": 46,
     "metadata": {},
     "output_type": "execute_result"
    }
   ],
   "source": [
    "tallest_skyscraper([\n",
    "  [0, 0, 0, 0],\n",
    "  [0, 1, 0, 0],\n",
    "  [0, 1, 1, 0],\n",
    "  [1, 1, 1, 1],\n",
    "])\n"
   ]
  },
  {
   "cell_type": "code",
   "execution_count": 41,
   "id": "164961bd",
   "metadata": {},
   "outputs": [
    {
     "data": {
      "text/plain": [
       "4"
      ]
     },
     "execution_count": 41,
     "metadata": {},
     "output_type": "execute_result"
    }
   ],
   "source": [
    "tallest_skyscraper([\n",
    "  [0, 1, 0, 0],\n",
    "  [0, 1, 0, 0],\n",
    "  [0, 1, 1, 0],\n",
    "  [1, 1, 1, 1]\n",
    "])\n"
   ]
  },
  {
   "cell_type": "code",
   "execution_count": 42,
   "id": "81f40947",
   "metadata": {},
   "outputs": [
    {
     "data": {
      "text/plain": [
       "2"
      ]
     },
     "execution_count": 42,
     "metadata": {},
     "output_type": "execute_result"
    }
   ],
   "source": [
    "tallest_skyscraper([\n",
    "  [0, 0, 0, 0],\n",
    "  [0, 0, 0, 0],\n",
    "  [1, 1, 1, 0],\n",
    "  [1, 1, 1, 1]\n",
    "])\n"
   ]
  },
  {
   "cell_type": "markdown",
   "id": "06dc96e8",
   "metadata": {},
   "source": [
    "4. A financial institution provides professional services to banks and claims charges from the customers based on the number of man-days provided. Internally, it has set a scheme to motivate and reward staff to meet and exceed targeted billable utilization and revenues by paying a bonus for each day claimed from customers in excess of a threshold target.\n",
    "\n",
    "This quarterly scheme is calculated with a threshold target of 32 days per quarter, and the incentive payment for each billable day in excess of such threshold target is shown as follows:\n",
    "\n",
    "Days\t                             Bonus\n",
    "0 to 32 days\t                   Zero\n",
    "33 to 40 days\t         SGD$325 per billable day\n",
    "41 to 48 days\t         SGD$550 per billable day\n",
    "Greater than 48 days      SGD$600 per billable day\n",
    "\n",
    "Please note that incentive payment is calculated progressively. As an example, if an employee reached total billable days of 45 in a quarter, his/her incentive payment is computed as follows:\n",
    "\n",
    "32*0 + 8*325 + 5*550 = 5350\n",
    "\n",
    "Write a function to read the billable days of an employee and return the bonus he/she has obtained in that quarter.\n"
   ]
  },
  {
   "cell_type": "code",
   "execution_count": 49,
   "id": "74209bb7",
   "metadata": {},
   "outputs": [],
   "source": [
    "def bonus(days):\n",
    "    if days <=32:\n",
    "        return 0\n",
    "    elif days<=40:\n",
    "        return 325 * (days - 32)\n",
    "    elif days<=48:\n",
    "        return (325 * (40 - 32) + 550 * (days -40))\n",
    "    elif days>48:\n",
    "        return (325 * (40 - 32) + 550 * (48 -40) + 600 * (days - 48))"
   ]
  },
  {
   "cell_type": "code",
   "execution_count": 50,
   "id": "a819c275",
   "metadata": {},
   "outputs": [
    {
     "data": {
      "text/plain": [
       "0"
      ]
     },
     "execution_count": 50,
     "metadata": {},
     "output_type": "execute_result"
    }
   ],
   "source": [
    "bonus(15)"
   ]
  },
  {
   "cell_type": "code",
   "execution_count": 51,
   "id": "e0591844",
   "metadata": {},
   "outputs": [
    {
     "data": {
      "text/plain": [
       "1625"
      ]
     },
     "execution_count": 51,
     "metadata": {},
     "output_type": "execute_result"
    }
   ],
   "source": [
    "bonus(37) "
   ]
  },
  {
   "cell_type": "code",
   "execution_count": 52,
   "id": "6b20645c",
   "metadata": {},
   "outputs": [
    {
     "data": {
      "text/plain": [
       "8200"
      ]
     },
     "execution_count": 52,
     "metadata": {},
     "output_type": "execute_result"
    }
   ],
   "source": [
    "bonus(50)"
   ]
  },
  {
   "cell_type": "markdown",
   "id": "f52399c1",
   "metadata": {},
   "source": [
    "5. A number is said to be Disarium if the sum of its digits raised to their respective positions is the number itself.\n",
    "\n",
    "Create a function that determines whether a number is a Disarium or not.\n"
   ]
  },
  {
   "cell_type": "code",
   "execution_count": 63,
   "id": "026ffd21",
   "metadata": {},
   "outputs": [],
   "source": [
    "def is_disarium(num):\n",
    "    a = str(num)\n",
    "    l = list(a)\n",
    "    sum = 0\n",
    "    for i in range(0,len(l)):\n",
    "        sum = sum + (int(l[i]))**(i+1)\n",
    "    if num == sum:\n",
    "        return True\n",
    "    else:\n",
    "        return False"
   ]
  },
  {
   "cell_type": "code",
   "execution_count": 64,
   "id": "cc43b830",
   "metadata": {},
   "outputs": [
    {
     "data": {
      "text/plain": [
       "False"
      ]
     },
     "execution_count": 64,
     "metadata": {},
     "output_type": "execute_result"
    }
   ],
   "source": [
    "is_disarium(75)"
   ]
  },
  {
   "cell_type": "code",
   "execution_count": 65,
   "id": "f313f9ee",
   "metadata": {},
   "outputs": [
    {
     "data": {
      "text/plain": [
       "True"
      ]
     },
     "execution_count": 65,
     "metadata": {},
     "output_type": "execute_result"
    }
   ],
   "source": [
    "is_disarium(135)"
   ]
  },
  {
   "cell_type": "code",
   "execution_count": 66,
   "id": "5adac86a",
   "metadata": {},
   "outputs": [
    {
     "data": {
      "text/plain": [
       "False"
      ]
     },
     "execution_count": 66,
     "metadata": {},
     "output_type": "execute_result"
    }
   ],
   "source": [
    "is_disarium(544) "
   ]
  },
  {
   "cell_type": "code",
   "execution_count": 67,
   "id": "33deef60",
   "metadata": {},
   "outputs": [
    {
     "data": {
      "text/plain": [
       "True"
      ]
     },
     "execution_count": 67,
     "metadata": {},
     "output_type": "execute_result"
    }
   ],
   "source": [
    "is_disarium(518)"
   ]
  },
  {
   "cell_type": "code",
   "execution_count": 68,
   "id": "6403e568",
   "metadata": {},
   "outputs": [
    {
     "data": {
      "text/plain": [
       "False"
      ]
     },
     "execution_count": 68,
     "metadata": {},
     "output_type": "execute_result"
    }
   ],
   "source": [
    "is_disarium(466)"
   ]
  },
  {
   "cell_type": "code",
   "execution_count": 69,
   "id": "49d91c61",
   "metadata": {},
   "outputs": [
    {
     "data": {
      "text/plain": [
       "True"
      ]
     },
     "execution_count": 69,
     "metadata": {},
     "output_type": "execute_result"
    }
   ],
   "source": [
    "is_disarium(8)"
   ]
  },
  {
   "cell_type": "code",
   "execution_count": null,
   "id": "4828b9a8",
   "metadata": {},
   "outputs": [],
   "source": []
  }
 ],
 "metadata": {
  "kernelspec": {
   "display_name": "Python 3",
   "language": "python",
   "name": "python3"
  },
  "language_info": {
   "codemirror_mode": {
    "name": "ipython",
    "version": 3
   },
   "file_extension": ".py",
   "mimetype": "text/x-python",
   "name": "python",
   "nbconvert_exporter": "python",
   "pygments_lexer": "ipython3",
   "version": "3.8.8"
  }
 },
 "nbformat": 4,
 "nbformat_minor": 5
}
